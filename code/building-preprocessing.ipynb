{
 "cells": [
  {
   "cell_type": "code",
   "execution_count": 34,
   "metadata": {},
   "outputs": [],
   "source": [
    "import pandas as pd\n",
    "import os"
   ]
  },
  {
   "cell_type": "code",
   "execution_count": 35,
   "metadata": {},
   "outputs": [],
   "source": [
    "import csv\n",
    "\n",
    "def parse_txt_to_csv(txt_file, csv_file):\n",
    "    with open(txt_file, 'r') as in_file:\n",
    "        stripped = (line.strip() for line in in_file)\n",
    "        lines = (line.split(\"|\")[1:-1] for line in stripped if line)  # Exclude first and last empty strings\n",
    "        cleaned_lines = ([item.strip() for item in line] for line in lines)\n",
    "        with open(csv_file, 'w', newline='') as out_file:\n",
    "            writer = csv.writer(out_file)\n",
    "            writer.writerow(('ID', 'Timestamp', 'Value'))  # writing headers\n",
    "            writer.writerows(cleaned_lines)  # writing content\n",
    "\n",
    "# Call the function like this:\n",
    "parse_txt_to_csv('../data/original/building/temperature.txt', '../data/original/building/temperature.csv')"
   ]
  },
  {
   "cell_type": "code",
   "execution_count": 36,
   "metadata": {},
   "outputs": [],
   "source": [
    "data = pd.read_csv('../data/original/building/temperature.csv', index_col='ID')"
   ]
  },
  {
   "cell_type": "code",
   "execution_count": 19,
   "metadata": {},
   "outputs": [],
   "source": [
    "def jsons_to_csv(directory, csv_file):\n",
    "    data_frames = []  # list to store data frames\n",
    "\n",
    "    for filename in os.listdir(directory):\n",
    "        if filename.endswith('.json'):\n",
    "            file_path = os.path.join(directory, filename)\n",
    "            df = pd.read_json(file_path)  # directly read json file into dataframe\n",
    "            data_frames.append(df)  # add dataframe to list\n",
    "\n",
    "    # Concatenate all dataframes, and write to CSV\n",
    "    final_df = pd.concat(data_frames, ignore_index=True)\n",
    "    final_df.to_csv(csv_file, index=False)\n",
    "\n",
    "# Call the function like this:\n",
    "jsons_to_csv('../data/original/building/occupation/', '../data/original/building/occupation.csv')"
   ]
  },
  {
   "cell_type": "code",
   "execution_count": 38,
   "metadata": {},
   "outputs": [],
   "source": [
    "mapping = pd.read_csv('../data/original/building/place_ids.csv', delimiter=';')"
   ]
  },
  {
   "cell_type": "code",
   "execution_count": 39,
   "metadata": {},
   "outputs": [],
   "source": [
    "occupancy = pd.read_csv('../data/original/building/occupation.csv')"
   ]
  },
  {
   "cell_type": "code",
   "execution_count": 40,
   "metadata": {},
   "outputs": [],
   "source": [
    "merge = pd.merge(occupancy, mapping, left_on='asset', right_on='id', how='left' )"
   ]
  },
  {
   "cell_type": "code",
   "execution_count": 41,
   "metadata": {},
   "outputs": [],
   "source": [
    "def add_place_id_column(df):\n",
    "    place_id = []\n",
    "    for name in df['name']:\n",
    "        if name.startswith('0.B'):\n",
    "            place_id.append(1)\n",
    "        elif name.startswith('1.D'):\n",
    "            place_id.append(3)\n",
    "        elif name.startswith('L1.'):\n",
    "            place_id.append(4)\n",
    "        else:\n",
    "            place_id.append('')\n",
    "    df['place_id'] = place_id\n",
    "    return df\n",
    "\n",
    "merge = add_place_id_column(merge)"
   ]
  },
  {
   "cell_type": "code",
   "execution_count": 42,
   "metadata": {},
   "outputs": [],
   "source": [
    "def add_atrium_column(df):\n",
    "    atrium = []\n",
    "    for name in df['name']:\n",
    "        if name.startswith('0.B') or name.startswith('1.D') or name.startswith('L1.') or name.startswith('1.C'):\n",
    "            atrium.append(True)\n",
    "        else:\n",
    "            atrium.append(False)\n",
    "    df['atrium'] = atrium\n",
    "    return df\n",
    "\n",
    "merge = add_atrium_column(merge)"
   ]
  },
  {
   "cell_type": "code",
   "execution_count": 43,
   "metadata": {},
   "outputs": [],
   "source": [
    "merge['utc_time'] = pd.to_datetime(merge['utc_time'])\n",
    "merge['utc_time'] = merge['utc_time'].dt.tz_convert('Europe/Amsterdam')\n",
    "merge['utc_time'] = merge['utc_time'].dt.tz_localize(None)"
   ]
  },
  {
   "cell_type": "code",
   "execution_count": 44,
   "metadata": {},
   "outputs": [],
   "source": [
    "merge.rename(columns={'utc_time': 'timestamp'}, inplace=True)"
   ]
  },
  {
   "cell_type": "code",
   "execution_count": 28,
   "metadata": {},
   "outputs": [],
   "source": [
    "merge.to_csv('../data/processed/building/occupation.csv', index=False)"
   ]
  }
 ],
 "metadata": {
  "kernelspec": {
   "display_name": "Python 3",
   "language": "python",
   "name": "python3"
  },
  "language_info": {
   "codemirror_mode": {
    "name": "ipython",
    "version": 3
   },
   "file_extension": ".py",
   "mimetype": "text/x-python",
   "name": "python",
   "nbconvert_exporter": "python",
   "pygments_lexer": "ipython3",
   "version": "3.11.3"
  },
  "orig_nbformat": 4
 },
 "nbformat": 4,
 "nbformat_minor": 2
}
