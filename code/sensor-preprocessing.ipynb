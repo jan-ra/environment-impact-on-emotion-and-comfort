{
 "cells": [
  {
   "cell_type": "code",
   "execution_count": 13,
   "metadata": {},
   "outputs": [],
   "source": [
    "import os\n",
    "import csv\n",
    "import pandas as pd\n",
    "import numpy as np"
   ]
  },
  {
   "attachments": {},
   "cell_type": "markdown",
   "metadata": {},
   "source": [
    "Concat and format all available sensor data into one file"
   ]
  },
  {
   "cell_type": "code",
   "execution_count": 2,
   "metadata": {},
   "outputs": [],
   "source": [
    "folder_path = '../data/original/sensors'\n",
    "files = os.listdir(folder_path)\n",
    "\n",
    "with open('../data/processed/sensors/sensors-acc.csv', 'w', newline='') as csvfile:\n",
    "    writer = csv.writer(csvfile)\n",
    "    writer.writerow(['date', 'timestamp', 'sensor_id', 'device_high',\n",
    "                    'device_middle', 'device_low', 'light', 'sound'])\n",
    "    for file in files:\n",
    "        parts = file.split(\"_\")\n",
    "        date = parts[0]\n",
    "        id = parts[1].split(\".\")[0]\n",
    "        with open('../data/original/sensors/' + file, 'r') as f:\n",
    "            for line in f:\n",
    "                line = line.strip()\n",
    "                parts = line.split(\",\")\n",
    "                timestamp = parts[0]\n",
    "                device_high = parts[1]\n",
    "                device_middle = parts[2]\n",
    "                device_low = parts[3]\n",
    "                light = parts[4]\n",
    "                sound = parts[5]\n",
    "                formatted_timestamp = \":\".join(\n",
    "                    [x.zfill(2) for x in timestamp.split(\":\")])\n",
    "                writer.writerow([date, formatted_timestamp, id, device_high,\n",
    "                                 device_middle, device_low, light, sound])"
   ]
  },
  {
   "cell_type": "code",
   "execution_count": 14,
   "metadata": {},
   "outputs": [],
   "source": [
    "data = pd.read_csv('../data/processed/sensors-acc.csv', parse_dates=[['date', 'timestamp']])\n",
    "data['date'] = data['date_timestamp'].dt.date\n",
    "data['time'] = data['date_timestamp'].dt.time"
   ]
  },
  {
   "attachments": {},
   "cell_type": "markdown",
   "metadata": {},
   "source": [
    "Remove all data falling outside of the experiment timeframe and split into place based frames to make indexing via timestamp possible.\n",
    "\n",
    "Ids map to the following locations:\n",
    "1. Ground floor, 3 Round tables by the plants\n",
    "2. Ground floor, Study Corner next to the plant wall\n",
    "3. 1st floor, Tables on the landing with wooden floor\n",
    "4. 1st floor, Yellow/white chairs and tables by the wooden staircase"
   ]
  },
  {
   "cell_type": "code",
   "execution_count": 15,
   "metadata": {},
   "outputs": [],
   "source": [
    "def process_sensor_data(sensors, sensor_id, start_time='09:00', end_time='16:00'):\n",
    "    place = sensors.loc[sensors['sensor_id'] == sensor_id]\n",
    "    place = place.set_index('date_timestamp')\n",
    "    place = place.between_time(start_time, end_time)\n",
    "    return place\n",
    "\n",
    "\n",
    "sensor_ids = [1, 2, 3, 4]\n",
    "places = {}\n",
    "\n",
    "for sensor_id in sensor_ids:\n",
    "    places[sensor_id] = process_sensor_data(data, sensor_id)"
   ]
  },
  {
   "attachments": {},
   "cell_type": "markdown",
   "metadata": {},
   "source": [
    "Apply static decible value calibration from sensor-calibration.ipynb"
   ]
  },
  {
   "cell_type": "code",
   "execution_count": 16,
   "metadata": {},
   "outputs": [],
   "source": [
    "for sensor_id in places:\n",
    "    places[sensor_id]['sound'] = places[sensor_id]['sound'] + 11.03"
   ]
  },
  {
   "attachments": {},
   "cell_type": "markdown",
   "metadata": {},
   "source": [
    "Remove outliers from sound and light data (stem from people moving sensors, covering sensors, shining light onto sensors)"
   ]
  },
  {
   "cell_type": "code",
   "execution_count": 17,
   "metadata": {},
   "outputs": [],
   "source": [
    "\n",
    "def replace_outliers_with_nan(df, column, multiplier=1.5):\n",
    "    Q1 = df[column].quantile(0.25)\n",
    "    Q3 = df[column].quantile(0.75)\n",
    "    IQR = Q3 - Q1\n",
    "    \n",
    "    lower_bound = Q1 - multiplier * IQR\n",
    "    upper_bound = Q3 + multiplier * IQR\n",
    "    \n",
    "    df[column] = np.where((df[column] >= lower_bound) & (df[column] <= upper_bound), df[column], np.nan)\n",
    "    \n",
    "    return df\n",
    "\n",
    "for sensor_id in places:\n",
    "    places[sensor_id] = replace_outliers_with_nan(places[sensor_id], 'light')\n",
    "\n",
    "for sensor_id in places:\n",
    "    places[sensor_id] = replace_outliers_with_nan(places[sensor_id], 'sound')"
   ]
  },
  {
   "cell_type": "code",
   "execution_count": 19,
   "metadata": {},
   "outputs": [],
   "source": [
    "for sensor_id in places:\n",
    "    places[sensor_id].to_csv(f'../data/processed/sensors/{sensor_id}-processed.csv')"
   ]
  }
 ],
 "metadata": {
  "kernelspec": {
   "display_name": "Python 3",
   "language": "python",
   "name": "python3"
  },
  "language_info": {
   "codemirror_mode": {
    "name": "ipython",
    "version": 3
   },
   "file_extension": ".py",
   "mimetype": "text/x-python",
   "name": "python",
   "nbconvert_exporter": "python",
   "pygments_lexer": "ipython3",
   "version": "3.11.3"
  },
  "orig_nbformat": 4
 },
 "nbformat": 4,
 "nbformat_minor": 2
}
